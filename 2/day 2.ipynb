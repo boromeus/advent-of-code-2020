{
 "cells": [
  {
   "cell_type": "code",
   "execution_count": 3,
   "metadata": {},
   "outputs": [
    {
     "data": {
      "text/plain": [
       "1000-element Array{String,1}:\n",
       " \"13-16 k: kkkkkgmkbvkkrskhd\"\n",
       " \"5-6 p: qpppvzp\"\n",
       " \"3-4 p: psppxhlfpvkh\"\n",
       " \"3-10 w: wwwwwwwwwwdwww\"\n",
       " \"4-5 r: rcgrrcr\"\n",
       " \"3-4 c: clvccc\"\n",
       " \"1-5 x: xfsfxmctb\"\n",
       " \"9-14 k: kpkmkkckhkkkkvkk\"\n",
       " \"5-6 s: gsfsss\"\n",
       " \"4-8 c: cccdcqdcr\"\n",
       " \"2-5 k: kmkpkkfgkkkkdkkk\"\n",
       " \"9-11 f: pfnsfffwxsn\"\n",
       " \"8-9 w: wjwnwcwxc\"\n",
       " ⋮\n",
       " \"2-7 t: mnjntdcq\"\n",
       " \"1-5 b: bbjbbbbb\"\n",
       " \"10-11 w: wwwwwtwwwwww\"\n",
       " \"4-6 d: dddxdfd\"\n",
       " \"2-4 f: fjfff\"\n",
       " \"13-15 b: vbbbbbbbbbbbbbb\"\n",
       " \"8-9 n: ncbnnnnnn\"\n",
       " \"2-6 d: hdfphnnmbbdt\"\n",
       " \"1-4 f: wffz\"\n",
       " \"7-15 f: ffsffffffffffvzff\"\n",
       " \"8-10 c: zchrckkcqcr\"\n",
       " \"2-6 h: thvbvh\""
      ]
     },
     "execution_count": 3,
     "metadata": {},
     "output_type": "execute_result"
    }
   ],
   "source": [
    "f = open(\"input.txt\")\n",
    "data = readlines(f)"
   ]
  },
  {
   "cell_type": "markdown",
   "metadata": {},
   "source": [
    "## Part 1"
   ]
  },
  {
   "cell_type": "code",
   "execution_count": 79,
   "metadata": {},
   "outputs": [
    {
     "data": {
      "text/plain": [
       "extract_info (generic function with 1 method)"
      ]
     },
     "execution_count": 79,
     "metadata": {},
     "output_type": "execute_result"
    }
   ],
   "source": [
    "function extract_info(x)\n",
    "    pos = collect(findfirst(\":\", x))\n",
    "    pos = pos[1]\n",
    "    password = x[(pos + 2):end]\n",
    "    letter = x[pos - 1];\n",
    "    pos_dash = collect(findfirst(\"-\", x))\n",
    "    pos_dash = pos_dash[1]\n",
    "    min_letter = x[1:(pos_dash - 1)]\n",
    "    max_letter = x[(pos_dash + 1):(pos - 3)]\n",
    "\n",
    "    return password, letter, min_letter, max_letter\n",
    "end"
   ]
  },
  {
   "cell_type": "code",
   "execution_count": 78,
   "metadata": {},
   "outputs": [
    {
     "data": {
      "text/plain": [
       "valid_password (generic function with 1 method)"
      ]
     },
     "execution_count": 78,
     "metadata": {},
     "output_type": "execute_result"
    }
   ],
   "source": [
    "function valid_password(x)\n",
    "    \n",
    "    password, letter, min_letter, max_letter = extract_info(x)\n",
    "    letter_count = count(i->(i == letter), password)\n",
    "    valid = (letter_count >= parse(Int64, min_letter)) & (letter_count <= parse(Int64, max_letter))\n",
    "    \n",
    "    return valid\n",
    "end\n"
   ]
  },
  {
   "cell_type": "code",
   "execution_count": 80,
   "metadata": {},
   "outputs": [
    {
     "data": {
      "text/plain": [
       "517"
      ]
     },
     "execution_count": 80,
     "metadata": {},
     "output_type": "execute_result"
    }
   ],
   "source": [
    "sum(valid_password.(data))"
   ]
  },
  {
   "cell_type": "markdown",
   "metadata": {},
   "source": [
    "## Part 2"
   ]
  },
  {
   "cell_type": "code",
   "execution_count": 84,
   "metadata": {},
   "outputs": [
    {
     "data": {
      "text/plain": [
       "new_policy (generic function with 1 method)"
      ]
     },
     "execution_count": 84,
     "metadata": {},
     "output_type": "execute_result"
    }
   ],
   "source": [
    "function new_policy(x)\n",
    "    \n",
    "    password, letter, min_letter, max_letter = extract_info(x)\n",
    "    first_letter = password[parse(Int64, min_letter)]\n",
    "    second_letter = password[parse(Int64, max_letter)]\n",
    "    \n",
    "    # xor\n",
    "    valid = (first_letter == letter ) ⊻ (second_letter == letter)\n",
    "    \n",
    "    return valid\n",
    "end"
   ]
  },
  {
   "cell_type": "code",
   "execution_count": 86,
   "metadata": {},
   "outputs": [
    {
     "data": {
      "text/plain": [
       "284"
      ]
     },
     "execution_count": 86,
     "metadata": {},
     "output_type": "execute_result"
    }
   ],
   "source": [
    "sum(new_policy.(data))"
   ]
  }
 ],
 "metadata": {
  "kernelspec": {
   "display_name": "Julia 1.5.2",
   "language": "julia",
   "name": "julia-1.5"
  },
  "language_info": {
   "file_extension": ".jl",
   "mimetype": "application/julia",
   "name": "julia",
   "version": "1.5.2"
  }
 },
 "nbformat": 4,
 "nbformat_minor": 2
}
