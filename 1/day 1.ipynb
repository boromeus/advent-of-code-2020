{
 "cells": [
  {
   "cell_type": "code",
   "execution_count": 2,
   "metadata": {},
   "outputs": [
    {
     "name": "stderr",
     "output_type": "stream",
     "text": [
      "┌ Info: Precompiling Combinatorics [861a8166-3701-5b0c-9a16-15d98fcdc6aa]\n",
      "└ @ Base loading.jl:1278\n"
     ]
    }
   ],
   "source": [
    "using Combinatorics"
   ]
  },
  {
   "cell_type": "markdown",
   "metadata": {},
   "source": [
    "##  Read data"
   ]
  },
  {
   "cell_type": "code",
   "execution_count": 3,
   "metadata": {},
   "outputs": [],
   "source": [
    "f = open(\"input.txt\");\n",
    "data = readlines(f);"
   ]
  },
  {
   "cell_type": "code",
   "execution_count": 10,
   "metadata": {},
   "outputs": [
    {
     "data": {
      "text/plain": [
       "200-element Array{Int64,1}:\n",
       " 1977\n",
       " 1802\n",
       " 1856\n",
       " 1309\n",
       " 2003\n",
       " 1854\n",
       " 1898\n",
       " 1862\n",
       " 1857\n",
       "  542\n",
       " 1616\n",
       " 1599\n",
       " 1628\n",
       "    ⋮\n",
       " 1283\n",
       " 1687\n",
       " 1220\n",
       " 1443\n",
       " 1409\n",
       " 1252\n",
       " 1506\n",
       " 1742\n",
       " 1319\n",
       " 1882\n",
       "  951\n",
       " 1849"
      ]
     },
     "execution_count": 10,
     "metadata": {},
     "output_type": "execute_result"
    }
   ],
   "source": [
    "data_int = [ parse(Int64, data[i]) for i in 1:length(data)]"
   ]
  },
  {
   "cell_type": "code",
   "execution_count": 13,
   "metadata": {},
   "outputs": [],
   "source": [
    "combins = collect(combinations(data_int, 2));\n",
    "combins = permutedims(reshape(hcat(combins...), (length(combins[1]), length(combins))));"
   ]
  },
  {
   "cell_type": "markdown",
   "metadata": {},
   "source": [
    "## Detect which pair and compute answer"
   ]
  },
  {
   "cell_type": "code",
   "execution_count": 27,
   "metadata": {},
   "outputs": [
    {
     "data": {
      "text/plain": [
       "19900-element Array{Int64,1}:\n",
       " 3779\n",
       " 3833\n",
       " 3286\n",
       " 3980\n",
       " 3831\n",
       " 3875\n",
       " 3839\n",
       " 3834\n",
       " 2519\n",
       " 3593\n",
       " 3576\n",
       " 3605\n",
       " 3488\n",
       "    ⋮\n",
       " 2457\n",
       " 3355\n",
       " 3061\n",
       " 3624\n",
       " 2693\n",
       " 3591\n",
       " 3201\n",
       " 2270\n",
       " 3168\n",
       " 2833\n",
       " 3731\n",
       " 2800"
      ]
     },
     "execution_count": 27,
     "metadata": {},
     "output_type": "execute_result"
    }
   ],
   "source": [
    "sum_combins = combins[:, 1] + combins[:, 2]"
   ]
  },
  {
   "cell_type": "code",
   "execution_count": 36,
   "metadata": {},
   "outputs": [
    {
     "data": {
      "text/plain": [
       "1-element Array{Int64,1}:\n",
       " 41979"
      ]
     },
     "execution_count": 36,
     "metadata": {},
     "output_type": "execute_result"
    }
   ],
   "source": [
    "row_2020 = findall(a->a == 2020, sum_combins);\n",
    "answer = combins[row_2020, 1] .* combins[row_2020, 2]"
   ]
  },
  {
   "cell_type": "markdown",
   "metadata": {},
   "source": [
    "# Part 2"
   ]
  },
  {
   "cell_type": "code",
   "execution_count": 40,
   "metadata": {},
   "outputs": [],
   "source": [
    "combins3 = collect(combinations(data_int, 3));\n",
    "combins3 = permutedims(reshape(hcat(combins3...), (length(combins3[1]), length(combins3))));"
   ]
  },
  {
   "cell_type": "code",
   "execution_count": 44,
   "metadata": {},
   "outputs": [
    {
     "data": {
      "text/plain": [
       "1313400-element Array{Int64,1}:\n",
       " 5635\n",
       " 5088\n",
       " 5782\n",
       " 5633\n",
       " 5677\n",
       " 5641\n",
       " 5636\n",
       " 4321\n",
       " 5395\n",
       " 5378\n",
       " 5407\n",
       " 5290\n",
       " 5627\n",
       "    ⋮\n",
       " 5237\n",
       " 4306\n",
       " 4943\n",
       " 4012\n",
       " 4910\n",
       " 4575\n",
       " 5473\n",
       " 4542\n",
       " 4152\n",
       " 5050\n",
       " 4119\n",
       " 4682"
      ]
     },
     "execution_count": 44,
     "metadata": {},
     "output_type": "execute_result"
    }
   ],
   "source": [
    "sum_combins3 = combins3[:, 1] + combins3[:, 2] + combins3[:, 3]"
   ]
  },
  {
   "cell_type": "code",
   "execution_count": 45,
   "metadata": {},
   "outputs": [
    {
     "data": {
      "text/plain": [
       "1-element Array{Int64,1}:\n",
       " 576642"
      ]
     },
     "execution_count": 45,
     "metadata": {},
     "output_type": "execute_result"
    }
   ],
   "source": [
    "row_2020_3 = findall(a->a == 2020, sum_combins3)"
   ]
  },
  {
   "cell_type": "code",
   "execution_count": 46,
   "metadata": {},
   "outputs": [
    {
     "data": {
      "text/plain": [
       "1-element Array{Int64,1}:\n",
       " 193416912"
      ]
     },
     "execution_count": 46,
     "metadata": {},
     "output_type": "execute_result"
    }
   ],
   "source": [
    "answer_3 = combins3[row_2020_3, 1] .* combins3[row_2020_3, 2] .* combins3[row_2020_3, 3]"
   ]
  }
 ],
 "metadata": {
  "kernelspec": {
   "display_name": "Julia 1.5.2",
   "language": "julia",
   "name": "julia-1.5"
  },
  "language_info": {
   "file_extension": ".jl",
   "mimetype": "application/julia",
   "name": "julia",
   "version": "1.5.2"
  }
 },
 "nbformat": 4,
 "nbformat_minor": 2
}
