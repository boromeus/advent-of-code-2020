{
 "cells": [
  {
   "cell_type": "code",
   "execution_count": 1,
   "metadata": {},
   "outputs": [
    {
     "data": {
      "text/plain": [
       "323-element Array{String,1}:\n",
       " \"...#...###......##.#..#.....##.\"\n",
       " \"..#.#.#....#.##.#......#.#....#\"\n",
       " \"......#.....#......#....#...##.\"\n",
       " \"...#.....##.#..#........##.....\"\n",
       " \"...##...##...#...#....###....#.\"\n",
       " \"...##...##.......#....#...#.#..\"\n",
       " \"..............##..#..#........#\"\n",
       " \"#.#....#.........#...##.#.#.#.#\"\n",
       " \".#..##......#.#......#...#....#\"\n",
       " \"#....#..#.#.....#..#...#...#...\"\n",
       " \"#.#.#.....##.....#.........#...\"\n",
       " \"......###..#....#..#..#.#....#.\"\n",
       " \"##.####...#.............#.##..#\"\n",
       " ⋮\n",
       " \".###...#..##....#..#...#.###...\"\n",
       " \"....#..##..#.......#.##.##..###\"\n",
       " \"#.......##.....#.......#.#...##\"\n",
       " \"#.....#.#.#....#.#......#.#.#..\"\n",
       " \"..##.....#..###......##........\"\n",
       " \".....#...#..##....#......#.....\"\n",
       " \"#..#..#....#.#...#..###.......#\"\n",
       " \".....#.....#....#..#...#.#..##.\"\n",
       " \"#####........#...#..#..##..#.#.\"\n",
       " \".#..#...#.##....#.#..#......###\"\n",
       " \"#.###.#..#.....##..##....#...#.\"\n",
       " \".#...#.#####....##..........##.\""
      ]
     },
     "execution_count": 1,
     "metadata": {},
     "output_type": "execute_result"
    }
   ],
   "source": [
    "f = open(\"input.txt\")\n",
    "data = readlines(f)"
   ]
  },
  {
   "cell_type": "code",
   "execution_count": 40,
   "metadata": {},
   "outputs": [
    {
     "data": {
      "text/plain": [
       "convert_numeric (generic function with 1 method)"
      ]
     },
     "execution_count": 40,
     "metadata": {},
     "output_type": "execute_result"
    }
   ],
   "source": [
    "function convert_numeric(x)\n",
    "    x_array = split(x, \"\")\n",
    "    x_array[x_array .== \"#\"] .= \"1\"\n",
    "    x_array[x_array .== \".\"] .= \"0\"\n",
    "    x_num = parse.(Int64, x_array)\n",
    "    return x_num\n",
    "end"
   ]
  },
  {
   "cell_type": "code",
   "execution_count": 56,
   "metadata": {},
   "outputs": [
    {
     "data": {
      "text/plain": [
       "323×31 Array{Int64,2}:\n",
       " 0  0  0  1  0  0  0  1  1  1  0  0  0  …  1  0  0  1  0  0  0  0  0  1  1  0\n",
       " 0  0  1  0  1  0  1  0  0  0  0  1  0     0  0  0  0  1  0  1  0  0  0  0  1\n",
       " 0  0  0  0  0  0  1  0  0  0  0  0  1     1  0  0  0  0  1  0  0  0  1  1  0\n",
       " 0  0  0  1  0  0  0  0  0  1  1  0  1     0  0  0  0  0  1  1  0  0  0  0  0\n",
       " 0  0  0  1  1  0  0  0  1  1  0  0  0     0  0  0  1  1  1  0  0  0  0  1  0\n",
       " 0  0  0  1  1  0  0  0  1  1  0  0  0  …  0  0  0  1  0  0  0  1  0  1  0  0\n",
       " 0  0  0  0  0  0  0  0  0  0  0  0  0     0  0  1  0  0  0  0  0  0  0  0  1\n",
       " 1  0  1  0  0  0  0  1  0  0  0  0  0     0  0  1  1  0  1  0  1  0  1  0  1\n",
       " 0  1  0  0  1  1  0  0  0  0  0  0  1     0  0  1  0  0  0  1  0  0  0  0  1\n",
       " 1  0  0  0  0  1  0  0  1  0  1  0  0     1  0  0  0  1  0  0  0  1  0  0  0\n",
       " 1  0  1  0  1  0  0  0  0  0  1  1  0  …  0  0  0  0  0  0  0  0  1  0  0  0\n",
       " 0  0  0  0  0  0  1  1  1  0  0  1  0     1  0  0  1  0  1  0  0  0  0  1  0\n",
       " 1  1  0  1  1  1  1  0  0  0  1  0  0     0  0  0  0  0  1  0  1  1  0  0  1\n",
       " ⋮              ⋮              ⋮        ⋱     ⋮              ⋮              ⋮\n",
       " 0  1  1  1  0  0  0  1  0  0  1  1  0     1  0  0  0  1  0  1  1  1  0  0  0\n",
       " 0  0  0  0  1  0  0  1  1  0  0  1  0     1  0  1  1  0  1  1  0  0  1  1  1\n",
       " 1  0  0  0  0  0  0  0  1  1  0  0  0     0  0  0  0  1  0  1  0  0  0  1  1\n",
       " 1  0  0  0  0  0  1  0  1  0  1  0  0     0  0  0  0  0  1  0  1  0  1  0  0\n",
       " 0  0  1  1  0  0  0  0  0  1  0  0  1  …  0  0  1  1  0  0  0  0  0  0  0  0\n",
       " 0  0  0  0  0  1  0  0  0  1  0  0  1     0  0  0  0  0  0  1  0  0  0  0  0\n",
       " 1  0  0  1  0  0  1  0  0  0  0  1  0     0  1  1  1  0  0  0  0  0  0  0  1\n",
       " 0  0  0  0  0  1  0  0  0  0  0  1  0     1  0  0  0  1  0  1  0  0  1  1  0\n",
       " 1  1  1  1  1  0  0  0  0  0  0  0  0     0  1  0  0  1  1  0  0  1  0  1  0\n",
       " 0  1  0  0  1  0  0  0  1  0  1  1  0  …  0  0  1  0  0  0  0  0  0  1  1  1\n",
       " 1  0  1  1  1  0  1  0  0  1  0  0  0     1  1  0  0  0  0  1  0  0  0  1  0\n",
       " 0  1  0  0  0  1  0  1  1  1  1  1  0     0  0  0  0  0  0  0  0  0  1  1  0"
      ]
     },
     "execution_count": 56,
     "metadata": {},
     "output_type": "execute_result"
    }
   ],
   "source": [
    "data_num = convert_numeric.(data);\n",
    "data_num = permutedims(reshape(hcat(data_num...), (length(data_num[1]), length(data_num))))"
   ]
  },
  {
   "cell_type": "code",
   "execution_count": 61,
   "metadata": {},
   "outputs": [
    {
     "data": {
      "text/plain": [
       "move (generic function with 1 method)"
      ]
     },
     "execution_count": 61,
     "metadata": {},
     "output_type": "execute_result"
    }
   ],
   "source": [
    "function move(position)\n",
    "    return position + [1, 3];\n",
    "end"
   ]
  },
  {
   "cell_type": "code",
   "execution_count": 95,
   "metadata": {},
   "outputs": [],
   "source": [
    "data_num_large = repeat(data_num, outer = [1, 1000]);"
   ]
  },
  {
   "cell_type": "code",
   "execution_count": 88,
   "metadata": {},
   "outputs": [
    {
     "data": {
      "text/plain": [
       "230"
      ]
     },
     "execution_count": 88,
     "metadata": {},
     "output_type": "execute_result"
    }
   ],
   "source": [
    "pos = [1, 1]\n",
    "trees = data_num_large[1, 1];\n",
    "for i = 1:(size(data_num_large, 1) - 1)\n",
    "    pos = move(pos)\n",
    "    trees = trees + data_num_large[pos[1], pos[2]]\n",
    "end\n",
    "\n",
    "trees"
   ]
  },
  {
   "cell_type": "markdown",
   "metadata": {},
   "source": [
    "## Part 2"
   ]
  },
  {
   "cell_type": "code",
   "execution_count": 89,
   "metadata": {},
   "outputs": [
    {
     "data": {
      "text/plain": [
       "move (generic function with 2 methods)"
      ]
     },
     "execution_count": 89,
     "metadata": {},
     "output_type": "execute_result"
    }
   ],
   "source": [
    "function move(position::Array{Int64}, by::Array{Int64})\n",
    "    return position + by;\n",
    "end"
   ]
  },
  {
   "cell_type": "code",
   "execution_count": null,
   "metadata": {},
   "outputs": [],
   "source": [
    "[1, 1]\n",
    "[1, 3]\n",
    "[1, 5]\n",
    "[1, 7]\n",
    "[2, 1]"
   ]
  },
  {
   "cell_type": "code",
   "execution_count": 106,
   "metadata": {},
   "outputs": [
    {
     "data": {
      "text/plain": [
       "no_trees (generic function with 1 method)"
      ]
     },
     "execution_count": 106,
     "metadata": {},
     "output_type": "execute_result"
    }
   ],
   "source": [
    "function no_trees(slope)\n",
    "    pos = [1, 1]\n",
    "    trees = data_num_large[1, 1];\n",
    "    for i = 1:Int(floor((size(data_num_large, 1) - 1) / slope[1]))\n",
    "        pos = move(pos, slope)\n",
    "        trees = trees + data_num_large[pos[1], pos[2]]\n",
    "    end\n",
    "    return trees\n",
    "end"
   ]
  },
  {
   "cell_type": "code",
   "execution_count": 108,
   "metadata": {},
   "outputs": [
    {
     "data": {
      "text/plain": [
       "9533698720"
      ]
     },
     "execution_count": 108,
     "metadata": {},
     "output_type": "execute_result"
    }
   ],
   "source": [
    "tree1 = no_trees([1, 1])\n",
    "tree2 = no_trees([1, 3])\n",
    "tree3 = no_trees([1, 5])\n",
    "tree4 = no_trees([1, 7])\n",
    "tree5 = no_trees([2, 1])\n",
    "\n",
    "tree1 * tree2 * tree3 * tree4 * tree5"
   ]
  },
  {
   "cell_type": "code",
   "execution_count": null,
   "metadata": {},
   "outputs": [],
   "source": []
  }
 ],
 "metadata": {
  "kernelspec": {
   "display_name": "Julia 1.5.2",
   "language": "julia",
   "name": "julia-1.5"
  },
  "language_info": {
   "file_extension": ".jl",
   "mimetype": "application/julia",
   "name": "julia",
   "version": "1.5.2"
  }
 },
 "nbformat": 4,
 "nbformat_minor": 2
}
